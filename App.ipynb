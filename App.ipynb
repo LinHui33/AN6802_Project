{
 "cells": [
  {
   "cell_type": "code",
   "execution_count": 1,
   "id": "57ea6309",
   "metadata": {},
   "outputs": [],
   "source": [
    "import pandas as pd\n",
    "from xgboost import XGBClassifier\n",
    "import pickle\n",
    "from flask import Flask,request,render_template,jsonify\n",
    "\n",
    "from static.get_dummies import GetDummies\n",
    "from werkzeug.utils import secure_filename"
   ]
  },
  {
   "cell_type": "code",
   "execution_count": 2,
   "id": "36ac86e0",
   "metadata": {},
   "outputs": [
    {
     "name": "stderr",
     "output_type": "stream",
     "text": [
      "C:\\Users\\linhu\\anaconda3\\lib\\site-packages\\sklearn\\base.py:318: UserWarning: Trying to unpickle estimator OrdinalEncoder from version 1.0.2 when using version 1.2.2. This might lead to breaking code or invalid results. Use at your own risk. For more info please refer to:\n",
      "https://scikit-learn.org/stable/model_persistence.html#security-maintainability-limitations\n",
      "  warnings.warn(\n",
      "C:\\Users\\linhu\\anaconda3\\lib\\site-packages\\sklearn\\base.py:318: UserWarning: Trying to unpickle estimator LabelEncoder from version 1.0.2 when using version 1.2.2. This might lead to breaking code or invalid results. Use at your own risk. For more info please refer to:\n",
      "https://scikit-learn.org/stable/model_persistence.html#security-maintainability-limitations\n",
      "  warnings.warn(\n"
     ]
    }
   ],
   "source": [
    "# Load the encoder from the file\n",
    "loaded_enc   = pickle.load(open(\"static/credit_score_multi_class_ord_encoder.pkl\", \"rb\")) \n",
    "loaded_le    = pickle.load(open(\"static/credit_score_multi_class_le.pkl\", \"rb\"))\n",
    "loaded_dummy = pickle.load(open(\"static/credit_score_multi_class_dummy.pkl\", \"rb\"))\n",
    "\n",
    "# Load the model from the file\n",
    "loaded_model = XGBClassifier()\n",
    "loaded_model.load_model(\"static/credit_score_multi_class_xgboost_model.json\")"
   ]
  },
  {
   "cell_type": "code",
   "execution_count": 3,
   "id": "6ec09bf1",
   "metadata": {},
   "outputs": [],
   "source": [
    "selected_col = ['Total_EMI_per_month', 'Num_Bank_Accounts', 'Num_of_Delayed_Payment',\n",
    " 'Delay_from_due_date', 'Changed_Credit_Limit', 'Num_Credit_Card',\n",
    " 'Outstanding_Debt', 'Interest_Rate', 'Credit_Mix']\n",
    "\n",
    "response_data = {\n",
    "    'columns': [],\n",
    "    'data': []\n",
    "}"
   ]
  },
  {
   "cell_type": "code",
   "execution_count": 4,
   "id": "b4b740a3",
   "metadata": {},
   "outputs": [],
   "source": [
    "app = Flask(__name__)"
   ]
  },
  {
   "cell_type": "code",
   "execution_count": 5,
   "id": "e92ab5e6",
   "metadata": {},
   "outputs": [],
   "source": [
    "@app.route(\"/\",methods = [\"GET\",\"POST\"])\n",
    "def home():\n",
    "    return(render_template(\"index.html\"))\n",
    "\n",
    "@app.route(\"/upload\",methods = [\"GET\",\"POST\"])\n",
    "def upload():\n",
    "    file = request.files['file']\n",
    "    filename = secure_filename(file.filename)\n",
    "    file.save(\"static/\" + filename)\n",
    "\n",
    "    df_input = pd.read_csv(\"static/\" + filename)\n",
    "    df_test = df_input[selected_col]\n",
    "    x_mapping = {\"Bad\":0, \"Good\":1, \"Standard\":2}\n",
    "    df_test['Credit_Mix'] = df_test['Credit_Mix'].map(x_mapping)\n",
    "\n",
    "    y_test_pred = loaded_model.predict(df_test)\n",
    "    y_mapping = {1: \"Poor\", 2: \"Standard\", 0:\"Good\"}\n",
    "    pred_cat = [y_mapping[value] for value in y_test_pred]\n",
    "\n",
    "    df_final = df_input.copy()\n",
    "    df_final['Credit Score'] = pred_cat\n",
    "    response_data = {\n",
    "        'columns': df_final.columns.tolist(),\n",
    "        'data': df_final.values.tolist()\n",
    "    }\n",
    "    return jsonify(response_data)\n",
    "    "
   ]
  },
  {
   "cell_type": "code",
   "execution_count": 6,
   "id": "cbae8607",
   "metadata": {},
   "outputs": [
    {
     "name": "stdout",
     "output_type": "stream",
     "text": [
      " * Serving Flask app '__main__'\n",
      " * Debug mode: off\n"
     ]
    },
    {
     "name": "stderr",
     "output_type": "stream",
     "text": [
      "WARNING: This is a development server. Do not use it in a production deployment. Use a production WSGI server instead.\n",
      " * Running on http://127.0.0.1:5000\n",
      "Press CTRL+C to quit\n",
      "127.0.0.1 - - [20/Apr/2024 00:42:03] \"GET / HTTP/1.1\" 200 -\n",
      "C:\\Users\\linhu\\AppData\\Local\\Temp\\ipykernel_16504\\201074760.py:14: SettingWithCopyWarning: \n",
      "A value is trying to be set on a copy of a slice from a DataFrame.\n",
      "Try using .loc[row_indexer,col_indexer] = value instead\n",
      "\n",
      "See the caveats in the documentation: https://pandas.pydata.org/pandas-docs/stable/user_guide/indexing.html#returning-a-view-versus-a-copy\n",
      "  df_test['Credit_Mix'] = df_test['Credit_Mix'].map(x_mapping)\n",
      "127.0.0.1 - - [20/Apr/2024 00:42:06] \"POST /upload HTTP/1.1\" 200 -\n"
     ]
    }
   ],
   "source": [
    "if __name__ == \"__main__\":\n",
    "    app.run()"
   ]
  },
  {
   "cell_type": "code",
   "execution_count": null,
   "id": "d968d7e9",
   "metadata": {},
   "outputs": [],
   "source": []
  }
 ],
 "metadata": {
  "kernelspec": {
   "display_name": "Python 3 (ipykernel)",
   "language": "python",
   "name": "python3"
  },
  "language_info": {
   "codemirror_mode": {
    "name": "ipython",
    "version": 3
   },
   "file_extension": ".py",
   "mimetype": "text/x-python",
   "name": "python",
   "nbconvert_exporter": "python",
   "pygments_lexer": "ipython3",
   "version": "3.10.9"
  }
 },
 "nbformat": 4,
 "nbformat_minor": 5
}
